{
  "nbformat": 4,
  "nbformat_minor": 0,
  "metadata": {
    "colab": {
      "provenance": [],
      "authorship_tag": "ABX9TyMrivBPpM5cCodKv4gdOMgS",
      "include_colab_link": true
    },
    "kernelspec": {
      "name": "python3",
      "display_name": "Python 3"
    }
  },
  "cells": [
    {
      "cell_type": "markdown",
      "metadata": {
        "id": "view-in-github",
        "colab_type": "text"
      },
      "source": [
        "<a href=\"https://colab.research.google.com/github/sbowma15/color_spectrum_image_with_mask/blob/main/color_spectrum_image_with_mask.ipynb\" target=\"_parent\"><img src=\"https://colab.research.google.com/assets/colab-badge.svg\" alt=\"Open In Colab\"/></a>"
      ]
    },
    {
      "cell_type": "code",
      "metadata": {
        "id": "Ne0GjtMDnIov",
        "colab": {
          "base_uri": "https://localhost:8080/",
          "height": 313
        },
        "outputId": "dbfbd50a-b1ea-44dc-f39d-040a949514f1"
      },
      "source": [
        "import numpy as np\n",
        "import cv2 as cv\n",
        "\n",
        "from matplotlib import pyplot as plt\n",
        "from google.colab.patches import cv2_imshow\n",
        "\n",
        "img = cv.imread('/content/sample_data/Shanepic.jpg')\n",
        "\n",
        "#Flipping the order of color spectrum values makes the rest of the code\n",
        "#compatible, otherewise the image tones will be off\n",
        "img =cv2.cvtColor(img, cv2.COLOR_BGR2RGB)\n",
        "\n",
        "#creates masked image with shape and return type\n",
        "mask = np.zeros(img.shape[:2],np.uint8)\n",
        "\n",
        "#array created with double precision floating point value\n",
        "#Used for foreground and background modeling later\n",
        "bgdModel = np.zeros((1,65),np.float64)\n",
        "fgdModel = np.zeros((1,65),np.float64)\n",
        "\n",
        "#xcoord., ycoord., Height, Width\n",
        "#used for cutting out rectangular window\n",
        "#rect = (1250,700,900,1000)\n",
        "\n",
        "#perform grabCut with values passed in, \"1\" represents the iterations to repeat\n",
        "#cv2.grabCut(img,mask,rect,bgdModel,fgdModel,0,cv.GC_INIT_WITH_RECT)\n",
        "\n",
        "mask2 = np.where((mask==2)|(mask==0),0,1).astype('uint8')\n",
        "\n",
        "#Multiplying image by a new mask and using np.newaxis to slice the array\n",
        "img = img*mask2[:,:,np.newaxis]\n",
        "\n",
        "#plots the image with a color spectrum bar and increments\n",
        "plt.imshow(img),plt.colorbar(),plt.show()\n",
        "\n",
        "\n"
      ],
      "execution_count": null,
      "outputs": [
        {
          "output_type": "display_data",
          "data": {
            "image/png": "[encoded data removed]",
            "text/plain": [
              "<Figure size 432x288 with 2 Axes>"
            ]
          },
          "metadata": {
            "tags": [],
            "needs_background": "light"
          }
        },
        {
          "output_type": "execute_result",
          "data": {
            "text/plain": [
              "(<matplotlib.image.AxesImage at 0x7f3fa23ee630>,\n",
              " <matplotlib.colorbar.Colorbar at 0x7f3fa2429c50>,\n",
              " None)"
            ]
          },
          "metadata": {
            "tags": []
          },
          "execution_count": 4
        }
      ]
    }
  ]
}